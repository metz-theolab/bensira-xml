{
 "cells": [
  {
   "cell_type": "code",
   "execution_count": 9,
   "id": "ff9645e7",
   "metadata": {},
   "outputs": [
    {
     "name": "stdout",
     "output_type": "stream",
     "text": [
      "Converting ../xml_tei_revised/ms_b.xml to HTML...\n",
      "Converting ../xml_tei_revised/ms_c.xml to HTML...\n",
      "Converting ../xml_tei_revised/ms_a.xml to HTML...\n",
      "Converting ../xml_tei_revised/ms_d.xml to HTML...\n",
      "Converting ../xml_tei_revised/ms_e.xml to HTML...\n",
      "Converting ../xml_tei_revised/ms_f.xml to HTML...\n",
      "Converting ../xml_tei_revised/ms_11QPsa.xml to HTML...\n",
      "Converting ../xml_tei_revised/ms_massada.xml to HTML...\n",
      "Converting ../xml_tei_revised/ms_2Q18.xml to HTML...\n"
     ]
    }
   ],
   "source": [
    "\"\"\"Convert Ben Sira XML to HTML for proof-reading.\n",
    "\"\"\"\n",
    "from pathlib import Path\n",
    "from xml.etree import ElementTree\n",
    "\n",
    "\n",
    "for file_path in Path(\"../xml_tei_revised\").glob(\"*.xml\"):\n",
    "    print(f\"Converting {file_path} to HTML...\")\n",
    "    parsed_manuscript = ElementTree.parse(file_path).getroot()\n",
    "\n",
    "    # Create a new HTML file\n",
    "    with open(f\"htmls/{Path(file_path).stem}.html\", \"w\") as html_file:\n",
    "        # Iterate over the XML elements\n",
    "        for element in parsed_manuscript.iter():\n",
    "            if element.tag == \"ms\":\n",
    "                html_file.write(f\"\"\"<!DOCTYPE html>\\n<html>\\n<head>\\n<link rel=\"stylesheet\" href=\"styles.css\">\\n<title>{element.attrib['name']}</title>\\n</head>\\n<body><h1>{element.attrib['name']}</h1>\\n\"\"\")\n",
    "\n",
    "            if element.tag == \"div\":\n",
    "                if element.attrib[\"type\"] == \"chap\":\n",
    "                    html_file.write(f\"<h2>Chapter {element.attrib['n']}</h2>\")\n",
    "                if element.attrib[\"type\"] == \"verse\":\n",
    "                    html_file.write(f\"<p dir=\\\"rtl\\\"><b id=\\\"verse\\\">{element.attrib['n']}</b>\\n\")\n",
    "                    in_reconstructed = False #test pour formatage des reconstructed\n",
    "                    reconstructed_buffer = \"\" #chaine reconstuite\n",
    "                    for child in element:\n",
    "                        if child.tag == \"line\":\n",
    "                            html_file.write(f\"<sup id=\\\"line\\\">&#x200F;{child.attrib['n']}</sup>\")\n",
    "                        if child.tag == \"stich\":\n",
    "                            html_file.write(f\"<span style=\\\"display:inline-block; width: 30px;\\\"></span>\")\n",
    "                        if child.tag == \"w\":        \n",
    "                            rec = child.attrib.get(\"reconstructed\", \"0\")\n",
    "                            # Si c'est un mot reconstruit\n",
    "                            if rec == \"1\":\n",
    "                                if not in_reconstructed:\n",
    "                                    in_reconstructed = True\n",
    "                                    reconstructed_buffer += \"[\"\n",
    "                                # Ajoute le texte du mot reconstruit et de ses <g>\n",
    "                                if child.text:\n",
    "                                    reconstructed_buffer += child.text\n",
    "                                for g in child.findall(\"g\"):\n",
    "                                    if g.text:\n",
    "                                        reconstructed_buffer += g.text\n",
    "                                # Ajoute un espace si ce n'est pas le dernier mot reconstruit\n",
    "                                reconstructed_buffer += \" \"\n",
    "                            else:\n",
    "                                # Si on sort d'une séquence reconstruite, ferme le crochet\n",
    "                                if in_reconstructed:\n",
    "                                    reconstructed_buffer = reconstructed_buffer.rstrip() + \"] \"\n",
    "                                    html_file.write(reconstructed_buffer)\n",
    "                                    reconstructed_buffer = \"\"\n",
    "                                    in_reconstructed = False\n",
    "                                # Ajoute le mot normal\n",
    "                                if child.text:\n",
    "                                    html_file.write(f\"{child.text} \")\n",
    "                        # Si on arrive à la fin, ferme le crochet si besoin\n",
    "                    if in_reconstructed:\n",
    "                        reconstructed_buffer = reconstructed_buffer.rstrip() + \"] \"\n",
    "                        html_file.write(reconstructed_buffer)\n",
    "                    html_file.write(f\"</p>\\n\")\n",
    "                            \n",
    "\n"
   ]
  },
  {
   "cell_type": "code",
   "execution_count": null,
   "id": "38329d8f",
   "metadata": {},
   "outputs": [],
   "source": []
  }
 ],
 "metadata": {
  "kernelspec": {
   "display_name": "venv",
   "language": "python",
   "name": "python3"
  },
  "language_info": {
   "codemirror_mode": {
    "name": "ipython",
    "version": 3
   },
   "file_extension": ".py",
   "mimetype": "text/x-python",
   "name": "python",
   "nbconvert_exporter": "python",
   "pygments_lexer": "ipython3",
   "version": "3.13.2"
  }
 },
 "nbformat": 4,
 "nbformat_minor": 5
}
