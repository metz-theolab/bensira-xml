{
 "cells": [
  {
   "cell_type": "code",
   "execution_count": null,
   "id": "19dc552d",
   "metadata": {},
   "outputs": [],
   "source": [
    "\"\"\"\n",
    "Convert <blank> into <space>\n",
    "<blank orient=\"horizontal\" span=\"X\"/> into  <space unit=\"char\" extent=\"X\"/>\n",
    "\"\"\"\n",
    "from pathlib import Path\n",
    "from lxml import etree\n",
    "\n",
    "for file_path in Path(\"../xml_tei_revised\").glob(\"*.xml\"):\n",
    "    tree = etree.parse(str(file_path))\n",
    "    root = tree.getroot()\n",
    "    print(file_path)\n",
    "    modified = False\n",
    "\n",
    "    # On collecte d'abord toutes les balises à remplacer\n",
    "    blanks = root.xpath(\".//blank[@orient='horizontal'][@span]\")\n",
    "    print(blanks)\n",
    "    for blank in blanks:\n",
    "        extent = blank.attrib[\"span\"]\n",
    "        space = etree.Element(\"space\", unit=\"char\", extent=extent)\n",
    "        parent = blank.getparent()\n",
    "        if parent is not None:\n",
    "            parent.replace(blank, space)\n",
    "            modified = True\n",
    "\n",
    "    if modified:\n",
    "        tree.write(str(file_path), encoding=\"utf-8\", xml_declaration=True, pretty_print=True)\n",
    "        print(f\"Modifié : {file_path}\")\n",
    "    else:\n",
    "        print(f\"Aucune balise à remplacer dans : {file_path}\")"
   ]
  },
  {
   "cell_type": "code",
   "execution_count": null,
   "id": "0ee6df50",
   "metadata": {},
   "outputs": [],
   "source": []
  }
 ],
 "metadata": {
  "language_info": {
   "name": "python"
  }
 },
 "nbformat": 4,
 "nbformat_minor": 5
}
