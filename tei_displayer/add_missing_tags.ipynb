{
 "cells": [
  {
   "cell_type": "code",
   "execution_count": null,
   "id": "fb5c2029",
   "metadata": {},
   "outputs": [],
   "source": [
    "from pathlib import Path\n",
    "from xml.etree import ElementTree\n",
    "import pprint"
   ]
  },
  {
   "cell_type": "code",
   "execution_count": null,
   "id": "1d396b60",
   "metadata": {},
   "outputs": [],
   "source": [
    "# Récupère le contenu des balises \n",
    "\n",
    "\n",
    "import xml.etree.ElementTree as ET\n",
    "\n",
    "# Charger le fichier XML\n",
    "tree = ET.parse('/Users/frederiquerey/dev/bensira-xml/raw_files/ms_a.xml')\n",
    "root = tree.getroot()\n",
    "\n",
    "# Liste pour stocker les résultats\n",
    "results = []\n",
    "\n",
    "# Variables pour suivre le contexte\n",
    "current_chap = None\n",
    "current_verse = None\n",
    "current_text = None\n",
    "token_before = None\n",
    "\n",
    "def get_full_text(element):\n",
    "    text = element.text or \"\"\n",
    "    for child in element:\n",
    "        if child.tag == \"supralinear\":\n",
    "            break\n",
    "        #text += get_full_text(child)  # Appel récursif pour les enfants\n",
    "        elif child.tail:\n",
    "            text += child.tail  # Inclure le texte après la balise enfant\n",
    "    return text.strip()\n",
    "\n",
    "# Parcourir les éléments du fichier XML\n",
    "for elem in root.iter():\n",
    "    if elem.tag == \"chap\":\n",
    "        current_chap = elem.text.strip() if elem.text else None\n",
    "        #print(f'{current_chap}')\n",
    "    elif elem.tag == \"text\":\n",
    "        current_text = get_full_text(elem)  # Utiliser la fonction pour extraire tout le texte avant une balise supralinear\n",
    "        #print(f'{current_text}')\n",
    "    elif elem.tag == \"verse_nb\":\n",
    "        current_verse = elem.text.strip() if elem.text else None\n",
    "        #print(f'{current_verse}')\n",
    "    elif elem.tag == \"supralinear\":\n",
    "        sup = elem.text.strip() if elem.text else None\n",
    "        \n",
    "        results.append({\n",
    "            \"sup\": sup,\n",
    "            \"text_before\": current_text,\n",
    "            \"ch\": current_chap,\n",
    "            \"v\": current_verse\n",
    "        })\n",
    "\n",
    "# Afficher les résultats\n",
    "for result in results:\n",
    "    print(result)"
   ]
  }
 ],
 "metadata": {
  "language_info": {
   "name": "python"
  }
 },
 "nbformat": 4,
 "nbformat_minor": 5
}
